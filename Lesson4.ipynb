{
 "cells": [
  {
   "cell_type": "code",
   "execution_count": 6,
   "metadata": {
    "collapsed": false
   },
   "outputs": [
    {
     "name": "stdout",
     "output_type": "stream",
     "text": [
      "The 3 lines in this file end with the new line character.\n",
      "\n",
      "There is a blank line above this line.\n",
      "\n"
     ]
    }
   ],
   "source": [
    "f = open(\"example.txt\",'r')\n",
    "s = f.read()\n",
    "f.close()\n",
    "print(s)"
   ]
  },
  {
   "cell_type": "code",
   "execution_count": 9,
   "metadata": {
    "collapsed": false
   },
   "outputs": [
    {
     "name": "stdout",
     "output_type": "stream",
     "text": [
      "['The', '3', 'lines', 'in', 'this', 'file', 'end', 'with', 'the', 'new', 'line', 'character.', 'There', 'is', 'a', 'blank', 'line', 'above', 'this', 'line.']\n"
     ]
    },
    {
     "data": {
      "text/plain": [
       "20"
      ]
     },
     "execution_count": 9,
     "metadata": {},
     "output_type": "execute_result"
    }
   ],
   "source": [
    "def numWords(filename):\n",
    "    '''returns the number of words in file   \n",
    "    filename'''\n",
    "\n",
    "    infile = open(filename)\n",
    "    content = infile.read()\n",
    "    infile.close()\n",
    "    wordList = content.split()\n",
    "    print(wordList)\n",
    "    return len(wordList)\n",
    "numWords('example.txt')"
   ]
  },
  {
   "cell_type": "code",
   "execution_count": 13,
   "metadata": {
    "collapsed": false
   },
   "outputs": [
    {
     "name": "stdout",
     "output_type": "stream",
     "text": [
      "The 3 lines in this file end with the new line character.\n",
      "\n",
      "There is a blank line above this line.\n"
     ]
    }
   ],
   "source": [
    "input = open(\"example.txt\")\n",
    "for line in input:\n",
    "    print(line.strip()) \n",
    "input.close()    "
   ]
  },
  {
   "cell_type": "code",
   "execution_count": 41,
   "metadata": {
    "collapsed": false
   },
   "outputs": [
    {
     "name": "stdout",
     "output_type": "stream",
     "text": [
      "This is Sparta\n",
      "The End!\n",
      "This is Sparta\n",
      "The End!\n",
      "This is Sparta\n",
      "The End!\n",
      "This is Sparta\n",
      "The End!\n",
      "This is Sparta\n",
      "The End!\n",
      "This is Sparta\n",
      "The End!\n",
      "This is Sparta\n",
      "The End!\n",
      "This is Sparta\n",
      "The End!\n",
      "This is Sparta\n",
      "The End!\n",
      "This is Sparta\n",
      "The End!\n",
      "\n"
     ]
    }
   ],
   "source": [
    "w = open('test.txt','a')\n",
    "w.write('This is Sparta\\n')\n",
    "w.write('The End!\\n')\n",
    "w.close()\n",
    "\n",
    "f = open(\"test.txt\",'r')\n",
    "s = f.read()\n",
    "f.close()\n",
    "print(s)"
   ]
  },
  {
   "cell_type": "code",
   "execution_count": 45,
   "metadata": {
    "collapsed": false
   },
   "outputs": [
    {
     "name": "stdout",
     "output_type": "stream",
     "text": [
      "This is Sparta\n",
      "The End!\n",
      "This is Sparta\n",
      "The End!\n",
      "This is Sparta\n",
      "The End!\n",
      "This is Sparta\n",
      "The End!\n",
      "This is Sparta\n",
      "The End!\n",
      "This is Sparta\n",
      "The End!\n",
      "This is Sparta\n",
      "The End!\n",
      "This is Sparta\n",
      "The End!\n",
      "This is Sparta\n",
      "The End!\n",
      "This is Sparta\n",
      "The End!\n",
      "This is Sparta\n",
      "The End!\n",
      "\n"
     ]
    }
   ],
   "source": [
    "with open('test.txt','a') as w:\n",
    "    w.write('This is Sparta\\n')\n",
    "    w.write('The End!\\n')\n",
    "\n",
    "with open(\"test.txt\",'r') as f:\n",
    "    s = f.read()\n",
    "\n",
    "print(s)"
   ]
  },
  {
   "cell_type": "raw",
   "metadata": {},
   "source": [
    "def fibonacci(bound):\n",
    "    p = 1 # previous\t        \n",
    "    c = 1 # current\t        \n",
    "    while c <= bound:\n",
    "        p,c = c,p+c\n",
    "    return c"
   ]
  },
  {
   "cell_type": "code",
   "execution_count": null,
   "metadata": {
    "collapsed": false
   },
   "outputs": [],
   "source": [
    "fibonacci(5)"
   ]
  },
  {
   "cell_type": "code",
   "execution_count": null,
   "metadata": {
    "collapsed": false
   },
   "outputs": [],
   "source": [
    "\n",
    "def cities():\n",
    "    lst = []\n",
    "    \n",
    "    city = input('Enter city: ')\n",
    "\n",
    "    while city != '':\n",
    "        lst.append(city)\n",
    "        city = input('Enter city: ')\n",
    "\n",
    "    return lst\n",
    "cities()"
   ]
  },
  {
   "cell_type": "code",
   "execution_count": 1,
   "metadata": {
    "collapsed": false
   },
   "outputs": [
    {
     "name": "stdout",
     "output_type": "stream",
     "text": [
      "Enter city:\n"
     ]
    },
    {
     "data": {
      "text/plain": [
       "[]"
      ]
     },
     "execution_count": 1,
     "metadata": {},
     "output_type": "execute_result"
    }
   ],
   "source": [
    "def cities3():\n",
    "    lst = []\n",
    "    while True:\n",
    "        city = input('Enter city:')\n",
    "\n",
    "        if city == '':\n",
    "            break\n",
    "\n",
    "        lst.append(city)\n",
    "\n",
    "    return lst\n",
    "cities3()"
   ]
  },
  {
   "cell_type": "code",
   "execution_count": 3,
   "metadata": {
    "collapsed": false
   },
   "outputs": [
    {
     "name": "stdout",
     "output_type": "stream",
     "text": [
      "2 3 6 \n",
      "3 4 5 \n",
      "4 5 6 \n"
     ]
    }
   ],
   "source": [
    "def ignore(table):\n",
    "    for row in table:\n",
    "        for num in row:\n",
    "            if num == 0:\n",
    "                continue\n",
    "            print(num, end=' ')\n",
    "        print() \n",
    "\n",
    "table = [\n",
    "  [2, 3, 0, 6],\n",
    "  [0, 3, 4, 5],\n",
    "  [4, 5, 6, 0]\n",
    "]\n",
    "ignore(table)"
   ]
  },
  {
   "cell_type": "code",
   "execution_count": 5,
   "metadata": {
    "collapsed": false
   },
   "outputs": [],
   "source": [
    "employee = {\n",
    "    '864-20': ['Arm', 'Spartyan'],\n",
    "    '987-65': ['Vlad', 'Tundyan'],\n",
    "    '100-01': ['Kiazh', 'Damyan']}\n",
    "\n",
    "days = {'Mo': 1, 'Tu': 2, 'Th': 4, 'W': 3}\n",
    "\n",
    "#emp = {[1,2]:1,[2,3]:3} # error\n",
    "\n",
    "days = {'Mo':1, 'Tu':2, 'W':3}\n",
    "\n",
    "days2 = {'Tu':2, 'Fr':5}"
   ]
  },
  {
   "cell_type": "code",
   "execution_count": 6,
   "metadata": {
    "collapsed": false
   },
   "outputs": [
    {
     "data": {
      "text/plain": [
       "['Arm', 'Spartyan']"
      ]
     },
     "execution_count": 6,
     "metadata": {},
     "output_type": "execute_result"
    }
   ],
   "source": [
    "employee['864-20']"
   ]
  },
  {
   "cell_type": "code",
   "execution_count": 8,
   "metadata": {
    "collapsed": false
   },
   "outputs": [],
   "source": [
    "empty={}"
   ]
  },
  {
   "cell_type": "code",
   "execution_count": 9,
   "metadata": {
    "collapsed": false
   },
   "outputs": [
    {
     "ename": "TypeError",
     "evalue": "unhashable type: 'list'",
     "output_type": "error",
     "traceback": [
      "\u001b[0;31m---------------------------------------------------------------------------\u001b[0m",
      "\u001b[0;31mTypeError\u001b[0m                                 Traceback (most recent call last)",
      "\u001b[0;32m<ipython-input-9-77bce9a44f85>\u001b[0m in \u001b[0;36m<module>\u001b[0;34m()\u001b[0m\n\u001b[1;32m      1\u001b[0m \u001b[0;34m\u001b[0m\u001b[0m\n\u001b[0;32m----> 2\u001b[0;31m \u001b[0memp\u001b[0m \u001b[0;34m=\u001b[0m \u001b[0;34m{\u001b[0m\u001b[0;34m[\u001b[0m\u001b[0;36m1\u001b[0m\u001b[0;34m,\u001b[0m\u001b[0;36m2\u001b[0m\u001b[0;34m]\u001b[0m\u001b[0;34m:\u001b[0m\u001b[0;36m1\u001b[0m\u001b[0;34m,\u001b[0m\u001b[0;34m[\u001b[0m\u001b[0;36m2\u001b[0m\u001b[0;34m,\u001b[0m\u001b[0;36m3\u001b[0m\u001b[0;34m]\u001b[0m\u001b[0;34m:\u001b[0m\u001b[0;36m3\u001b[0m\u001b[0;34m}\u001b[0m \u001b[0;31m# error\u001b[0m\u001b[0;34m\u001b[0m\u001b[0m\n\u001b[0m",
      "\u001b[0;31mTypeError\u001b[0m: unhashable type: 'list'"
     ]
    }
   ],
   "source": [
    "\n",
    "emp = {[1,2]:1,[2,3]:3} # error"
   ]
  },
  {
   "cell_type": "code",
   "execution_count": 10,
   "metadata": {
    "collapsed": false
   },
   "outputs": [
    {
     "ename": "SyntaxError",
     "evalue": "invalid syntax (<ipython-input-10-ffff235b29e9>, line 1)",
     "output_type": "error",
     "traceback": [
      "\u001b[0;36m  File \u001b[0;32m\"<ipython-input-10-ffff235b29e9>\"\u001b[0;36m, line \u001b[0;32m1\u001b[0m\n\u001b[0;31m    for i in days.items()\u001b[0m\n\u001b[0m                          ^\u001b[0m\n\u001b[0;31mSyntaxError\u001b[0m\u001b[0;31m:\u001b[0m invalid syntax\n"
     ]
    }
   ],
   "source": [
    "for i in days.items() "
   ]
  },
  {
   "cell_type": "code",
   "execution_count": 12,
   "metadata": {
    "collapsed": false
   },
   "outputs": [
    {
     "data": {
      "text/plain": [
       "{85: 1, 90: 1, 95: 2, 96: 1, 100: 4}"
      ]
     },
     "execution_count": 12,
     "metadata": {},
     "output_type": "execute_result"
    }
   ],
   "source": [
    "def frequency(itemList):\n",
    "    'returns frequency of items in itemList'\n",
    "\n",
    "    counters = {}\n",
    "    for item in itemList:\n",
    "        if item in counters: # increment item counter\n",
    "            counters[item] += 1\n",
    "        else: # create item counter\n",
    "            counters[item] = 1\n",
    "    return counters\n",
    "\n",
    "grades = [95, 96, 100, 85, 95, 90, 100, 100, 100]\n",
    "frequency(grades)"
   ]
  },
  {
   "cell_type": "code",
   "execution_count": null,
   "metadata": {
    "collapsed": true
   },
   "outputs": [],
   "source": []
  }
 ],
 "metadata": {
  "kernelspec": {
   "display_name": "Python 3",
   "language": "python",
   "name": "python3"
  },
  "language_info": {
   "codemirror_mode": {
    "name": "ipython",
    "version": 3
   },
   "file_extension": ".py",
   "mimetype": "text/x-python",
   "name": "python",
   "nbconvert_exporter": "python",
   "pygments_lexer": "ipython3",
   "version": "3.6.0"
  }
 },
 "nbformat": 4,
 "nbformat_minor": 2
}
